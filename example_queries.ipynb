{
 "cells": [
  {
   "cell_type": "markdown",
   "id": "b7efbf3c",
   "metadata": {},
   "source": [
    "# Example Queries\n",
    "Two example queries using Spark SQL."
   ]
  },
  {
   "cell_type": "markdown",
   "id": "346be1f0",
   "metadata": {},
   "source": [
    "## Load the data into dataframes"
   ]
  },
  {
   "cell_type": "code",
   "execution_count": 3,
   "id": "51c19578",
   "metadata": {},
   "outputs": [
    {
     "data": {
      "application/vnd.jupyter.widget-view+json": {
       "model_id": "03a5ec6e19f94f978f1a3c02b27afc13",
       "version_major": 2,
       "version_minor": 0
      },
      "text/plain": [
       "VBox()"
      ]
     },
     "metadata": {},
     "output_type": "display_data"
    },
    {
     "data": {
      "application/vnd.jupyter.widget-view+json": {
       "model_id": "",
       "version_major": 2,
       "version_minor": 0
      },
      "text/plain": [
       "FloatProgress(value=0.0, bar_style='info', description='Progress:', layout=Layout(height='25px', width='50%'),…"
      ]
     },
     "metadata": {},
     "output_type": "display_data"
    }
   ],
   "source": [
    "df_songs = spark.read.parquet(\"s3://dend-egarat/project_4/songs/\")\n",
    "df_artists = spark.read.parquet(\"s3://dend-egarat/project_4/artists/\")\n",
    "df_users = spark.read.parquet(\"s3://dend-egarat/project_4/users/\")\n",
    "df_time = spark.read.parquet(\"s3://dend-egarat/project_4/time/\")\n",
    "df_songplays = spark.read.parquet(\"s3://dend-egarat/project_4/songplays/\")"
   ]
  },
  {
   "cell_type": "markdown",
   "id": "1e4da3b0",
   "metadata": {},
   "source": [
    "## Create temporary views from dataframes\n",
    "This is required to use Spark SQL queries."
   ]
  },
  {
   "cell_type": "code",
   "execution_count": 5,
   "id": "a9ad2c12",
   "metadata": {},
   "outputs": [
    {
     "data": {
      "application/vnd.jupyter.widget-view+json": {
       "model_id": "fec15a52087c4d0f91e3ebd5e3f8e6e1",
       "version_major": 2,
       "version_minor": 0
      },
      "text/plain": [
       "VBox()"
      ]
     },
     "metadata": {},
     "output_type": "display_data"
    },
    {
     "data": {
      "application/vnd.jupyter.widget-view+json": {
       "model_id": "",
       "version_major": 2,
       "version_minor": 0
      },
      "text/plain": [
       "FloatProgress(value=0.0, bar_style='info', description='Progress:', layout=Layout(height='25px', width='50%'),…"
      ]
     },
     "metadata": {},
     "output_type": "display_data"
    }
   ],
   "source": [
    "df_songs.createOrReplaceTempView(\"songs\")\n",
    "df_artists.createOrReplaceTempView(\"artists\")\n",
    "df_users.createOrReplaceTempView(\"users\")\n",
    "df_time.createOrReplaceTempView(\"time\")\n",
    "df_songplays.createOrReplaceTempView(\"songplays\")"
   ]
  },
  {
   "cell_type": "markdown",
   "id": "7cf422c1",
   "metadata": {},
   "source": [
    "## Query 1: Get Top 5 Users by Songplays"
   ]
  },
  {
   "cell_type": "code",
   "execution_count": 7,
   "id": "e3501117",
   "metadata": {},
   "outputs": [
    {
     "data": {
      "application/vnd.jupyter.widget-view+json": {
       "model_id": "10471acecab944cfaf512294e4ac7fa7",
       "version_major": 2,
       "version_minor": 0
      },
      "text/plain": [
       "VBox()"
      ]
     },
     "metadata": {},
     "output_type": "display_data"
    },
    {
     "data": {
      "application/vnd.jupyter.widget-view+json": {
       "model_id": "",
       "version_major": 2,
       "version_minor": 0
      },
      "text/plain": [
       "FloatProgress(value=0.0, bar_style='info', description='Progress:', layout=Layout(height='25px', width='50%'),…"
      ]
     },
     "metadata": {},
     "output_type": "display_data"
    },
    {
     "name": "stdout",
     "output_type": "stream",
     "text": [
      "+-------+----------+---------+-----+---------+--------+\n",
      "|user_id|first_name|last_name|level|songplays|sessions|\n",
      "+-------+----------+---------+-----+---------+--------+\n",
      "|     49|     Chloe|   Cuevas| paid|       42|      21|\n",
      "|     97|      Kate|  Harrell| paid|       32|      11|\n",
      "|     80|     Tegan|   Levine| paid|       31|      17|\n",
      "|     44|    Aleena|    Kirby| paid|       21|       7|\n",
      "|     73|     Jacob|    Klein| paid|       18|       6|\n",
      "+-------+----------+---------+-----+---------+--------+"
     ]
    }
   ],
   "source": [
    "spark.sql(\"\"\"\n",
    "SELECT sp.user_id\n",
    "      ,u.first_name\n",
    "      ,u.last_name\n",
    "      ,u.level\n",
    "      ,COUNT(*) AS songplays\n",
    "      ,COUNT(DISTINCT session_id) AS sessions\n",
    "FROM songplays sp\n",
    "JOIN users u ON sp.user_id = u.user_id\n",
    "GROUP BY 1, 2, 3, 4\n",
    "ORDER BY songplays DESC\n",
    "LIMIT 5\n",
    "\"\"\").show()"
   ]
  },
  {
   "cell_type": "markdown",
   "id": "ebd0da94",
   "metadata": {},
   "source": [
    "## Query 2: Get Top 5 Most Listened Songs"
   ]
  },
  {
   "cell_type": "code",
   "execution_count": 8,
   "id": "84d91e14",
   "metadata": {},
   "outputs": [
    {
     "data": {
      "application/vnd.jupyter.widget-view+json": {
       "model_id": "9c36c7d7a6984e009b497b99e204060f",
       "version_major": 2,
       "version_minor": 0
      },
      "text/plain": [
       "VBox()"
      ]
     },
     "metadata": {},
     "output_type": "display_data"
    },
    {
     "data": {
      "application/vnd.jupyter.widget-view+json": {
       "model_id": "",
       "version_major": 2,
       "version_minor": 0
      },
      "text/plain": [
       "FloatProgress(value=0.0, bar_style='info', description='Progress:', layout=Layout(height='25px', width='50%'),…"
      ]
     },
     "metadata": {},
     "output_type": "display_data"
    },
    {
     "name": "stdout",
     "output_type": "stream",
     "text": [
      "+--------------------+-------------+---------+\n",
      "|          song_title|  artist_name|songplays|\n",
      "+--------------------+-------------+---------+\n",
      "|      You're The One|Dwight Yoakam|       37|\n",
      "| I CAN'T GET STARTED|   Ron Carter|        9|\n",
      "|Catch You Baby (S...|Lonnie Gordon|        9|\n",
      "|Nothin' On You [f...|        B.o.B|        8|\n",
      "|Hey Daddy (Daddy'...|        Usher|        6|\n",
      "+--------------------+-------------+---------+"
     ]
    }
   ],
   "source": [
    "spark.sql(\"\"\"\n",
    "SELECT s.title AS song_title\n",
    "      ,a.name AS artist_name\n",
    "      ,COUNT(*) AS songplays\n",
    "FROM songplays sp\n",
    "JOIN songs s ON sp.song_id = s.song_id\n",
    "JOIN artists a ON sp.artist_id = a.artist_id\n",
    "GROUP BY 1, 2\n",
    "ORDER BY songplays DESC\n",
    "LIMIT 5\n",
    "\"\"\").show()"
   ]
  }
 ],
 "metadata": {
  "kernelspec": {
   "display_name": "PySpark",
   "language": "",
   "name": "pysparkkernel"
  },
  "language_info": {
   "codemirror_mode": {
    "name": "python",
    "version": 2
   },
   "mimetype": "text/x-python",
   "name": "pyspark",
   "pygments_lexer": "python2"
  }
 },
 "nbformat": 4,
 "nbformat_minor": 5
}
